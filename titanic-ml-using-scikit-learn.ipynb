{
 "cells": [
  {
   "cell_type": "code",
   "execution_count": 1,
   "metadata": {
    "_cell_guid": "b1076dfc-b9ad-4769-8c92-a6c4dae69d19",
    "_uuid": "8f2839f25d086af736a60e9eeb907d3b93b6e0e5",
    "execution": {
     "iopub.execute_input": "2021-09-04T14:10:31.137087Z",
     "iopub.status.busy": "2021-09-04T14:10:31.136712Z",
     "iopub.status.idle": "2021-09-04T14:10:31.141859Z",
     "shell.execute_reply": "2021-09-04T14:10:31.140826Z",
     "shell.execute_reply.started": "2021-09-04T14:10:31.137058Z"
    }
   },
   "outputs": [],
   "source": [
    "#Import all the libraries\n",
    "#import numpy as np\n",
    "import pandas as pd\n",
    "import seaborn as sns\n",
    "import matplotlib.pyplot as plt"
   ]
  },
  {
   "cell_type": "code",
   "execution_count": 2,
   "metadata": {
    "execution": {
     "iopub.execute_input": "2021-09-04T14:10:31.163007Z",
     "iopub.status.busy": "2021-09-04T14:10:31.162662Z",
     "iopub.status.idle": "2021-09-04T14:10:31.168549Z",
     "shell.execute_reply": "2021-09-04T14:10:31.167439Z",
     "shell.execute_reply.started": "2021-09-04T14:10:31.162980Z"
    }
   },
   "outputs": [],
   "source": [
    "from sklearn.neighbors import KNeighborsClassifier\n",
    "from sklearn.linear_model import LogisticRegression\n",
    "from sklearn.svm import SVC\n",
    "from sklearn.naive_bayes import GaussianNB"
   ]
  },
  {
   "cell_type": "code",
   "execution_count": 3,
   "metadata": {
    "execution": {
     "iopub.execute_input": "2021-09-04T14:10:31.188157Z",
     "iopub.status.busy": "2021-09-04T14:10:31.187803Z",
     "iopub.status.idle": "2021-09-04T14:10:31.208300Z",
     "shell.execute_reply": "2021-09-04T14:10:31.207250Z",
     "shell.execute_reply.started": "2021-09-04T14:10:31.188128Z"
    }
   },
   "outputs": [],
   "source": [
    "train = pd.read_csv(\"/home/lauvindra/Titanic/train.csv\")\n",
    "test = pd.read_csv(\"/home/lauvindra/Titanic/test.csv\")"
   ]
  },
  {
   "cell_type": "code",
   "execution_count": 4,
   "metadata": {
    "execution": {
     "iopub.execute_input": "2021-09-04T14:10:31.252679Z",
     "iopub.status.busy": "2021-09-04T14:10:31.252312Z",
     "iopub.status.idle": "2021-09-04T14:10:31.271228Z",
     "shell.execute_reply": "2021-09-04T14:10:31.270093Z",
     "shell.execute_reply.started": "2021-09-04T14:10:31.252651Z"
    }
   },
   "outputs": [
    {
     "data": {
      "text/html": [
       "<div>\n",
       "<style scoped>\n",
       "    .dataframe tbody tr th:only-of-type {\n",
       "        vertical-align: middle;\n",
       "    }\n",
       "\n",
       "    .dataframe tbody tr th {\n",
       "        vertical-align: top;\n",
       "    }\n",
       "\n",
       "    .dataframe thead th {\n",
       "        text-align: right;\n",
       "    }\n",
       "</style>\n",
       "<table border=\"1\" class=\"dataframe\">\n",
       "  <thead>\n",
       "    <tr style=\"text-align: right;\">\n",
       "      <th></th>\n",
       "      <th>PassengerId</th>\n",
       "      <th>Survived</th>\n",
       "      <th>Pclass</th>\n",
       "      <th>Name</th>\n",
       "      <th>Sex</th>\n",
       "      <th>Age</th>\n",
       "      <th>SibSp</th>\n",
       "      <th>Parch</th>\n",
       "      <th>Ticket</th>\n",
       "      <th>Fare</th>\n",
       "      <th>Cabin</th>\n",
       "      <th>Embarked</th>\n",
       "    </tr>\n",
       "  </thead>\n",
       "  <tbody>\n",
       "    <tr>\n",
       "      <th>171</th>\n",
       "      <td>172</td>\n",
       "      <td>0</td>\n",
       "      <td>3</td>\n",
       "      <td>Rice, Master. Arthur</td>\n",
       "      <td>male</td>\n",
       "      <td>4.0</td>\n",
       "      <td>4</td>\n",
       "      <td>1</td>\n",
       "      <td>382652</td>\n",
       "      <td>29.1250</td>\n",
       "      <td>NaN</td>\n",
       "      <td>Q</td>\n",
       "    </tr>\n",
       "    <tr>\n",
       "      <th>695</th>\n",
       "      <td>696</td>\n",
       "      <td>0</td>\n",
       "      <td>2</td>\n",
       "      <td>Chapman, Mr. Charles Henry</td>\n",
       "      <td>male</td>\n",
       "      <td>52.0</td>\n",
       "      <td>0</td>\n",
       "      <td>0</td>\n",
       "      <td>248731</td>\n",
       "      <td>13.5000</td>\n",
       "      <td>NaN</td>\n",
       "      <td>S</td>\n",
       "    </tr>\n",
       "    <tr>\n",
       "      <th>777</th>\n",
       "      <td>778</td>\n",
       "      <td>1</td>\n",
       "      <td>3</td>\n",
       "      <td>Emanuel, Miss. Virginia Ethel</td>\n",
       "      <td>female</td>\n",
       "      <td>5.0</td>\n",
       "      <td>0</td>\n",
       "      <td>0</td>\n",
       "      <td>364516</td>\n",
       "      <td>12.4750</td>\n",
       "      <td>NaN</td>\n",
       "      <td>S</td>\n",
       "    </tr>\n",
       "    <tr>\n",
       "      <th>836</th>\n",
       "      <td>837</td>\n",
       "      <td>0</td>\n",
       "      <td>3</td>\n",
       "      <td>Pasic, Mr. Jakob</td>\n",
       "      <td>male</td>\n",
       "      <td>21.0</td>\n",
       "      <td>0</td>\n",
       "      <td>0</td>\n",
       "      <td>315097</td>\n",
       "      <td>8.6625</td>\n",
       "      <td>NaN</td>\n",
       "      <td>S</td>\n",
       "    </tr>\n",
       "    <tr>\n",
       "      <th>525</th>\n",
       "      <td>526</td>\n",
       "      <td>0</td>\n",
       "      <td>3</td>\n",
       "      <td>Farrell, Mr. James</td>\n",
       "      <td>male</td>\n",
       "      <td>40.5</td>\n",
       "      <td>0</td>\n",
       "      <td>0</td>\n",
       "      <td>367232</td>\n",
       "      <td>7.7500</td>\n",
       "      <td>NaN</td>\n",
       "      <td>Q</td>\n",
       "    </tr>\n",
       "  </tbody>\n",
       "</table>\n",
       "</div>"
      ],
      "text/plain": [
       "     PassengerId  Survived  Pclass                           Name     Sex  \\\n",
       "171          172         0       3           Rice, Master. Arthur    male   \n",
       "695          696         0       2     Chapman, Mr. Charles Henry    male   \n",
       "777          778         1       3  Emanuel, Miss. Virginia Ethel  female   \n",
       "836          837         0       3               Pasic, Mr. Jakob    male   \n",
       "525          526         0       3             Farrell, Mr. James    male   \n",
       "\n",
       "      Age  SibSp  Parch  Ticket     Fare Cabin Embarked  \n",
       "171   4.0      4      1  382652  29.1250   NaN        Q  \n",
       "695  52.0      0      0  248731  13.5000   NaN        S  \n",
       "777   5.0      0      0  364516  12.4750   NaN        S  \n",
       "836  21.0      0      0  315097   8.6625   NaN        S  \n",
       "525  40.5      0      0  367232   7.7500   NaN        Q  "
      ]
     },
     "execution_count": 4,
     "metadata": {},
     "output_type": "execute_result"
    }
   ],
   "source": [
    "train.sample(5)"
   ]
  },
  {
   "cell_type": "code",
   "execution_count": 5,
   "metadata": {
    "execution": {
     "iopub.execute_input": "2021-09-04T14:10:31.282373Z",
     "iopub.status.busy": "2021-09-04T14:10:31.282041Z",
     "iopub.status.idle": "2021-09-04T14:10:31.288130Z",
     "shell.execute_reply": "2021-09-04T14:10:31.287262Z",
     "shell.execute_reply.started": "2021-09-04T14:10:31.282330Z"
    }
   },
   "outputs": [
    {
     "data": {
      "text/plain": [
       "(891, 12)"
      ]
     },
     "execution_count": 5,
     "metadata": {},
     "output_type": "execute_result"
    }
   ],
   "source": [
    "train.shape"
   ]
  },
  {
   "cell_type": "code",
   "execution_count": 6,
   "metadata": {
    "execution": {
     "iopub.execute_input": "2021-09-04T14:10:31.413725Z",
     "iopub.status.busy": "2021-09-04T14:10:31.413038Z",
     "iopub.status.idle": "2021-09-04T14:10:31.428056Z",
     "shell.execute_reply": "2021-09-04T14:10:31.427321Z",
     "shell.execute_reply.started": "2021-09-04T14:10:31.413688Z"
    }
   },
   "outputs": [
    {
     "name": "stdout",
     "output_type": "stream",
     "text": [
      "<class 'pandas.core.frame.DataFrame'>\n",
      "RangeIndex: 891 entries, 0 to 890\n",
      "Data columns (total 12 columns):\n",
      " #   Column       Non-Null Count  Dtype  \n",
      "---  ------       --------------  -----  \n",
      " 0   PassengerId  891 non-null    int64  \n",
      " 1   Survived     891 non-null    int64  \n",
      " 2   Pclass       891 non-null    int64  \n",
      " 3   Name         891 non-null    object \n",
      " 4   Sex          891 non-null    object \n",
      " 5   Age          714 non-null    float64\n",
      " 6   SibSp        891 non-null    int64  \n",
      " 7   Parch        891 non-null    int64  \n",
      " 8   Ticket       891 non-null    object \n",
      " 9   Fare         891 non-null    float64\n",
      " 10  Cabin        204 non-null    object \n",
      " 11  Embarked     889 non-null    object \n",
      "dtypes: float64(2), int64(5), object(5)\n",
      "memory usage: 83.7+ KB\n"
     ]
    }
   ],
   "source": [
    "train.info()"
   ]
  },
  {
   "cell_type": "code",
   "execution_count": 7,
   "metadata": {
    "execution": {
     "iopub.execute_input": "2021-09-04T14:10:31.442277Z",
     "iopub.status.busy": "2021-09-04T14:10:31.441763Z",
     "iopub.status.idle": "2021-09-04T14:10:31.458006Z",
     "shell.execute_reply": "2021-09-04T14:10:31.457206Z",
     "shell.execute_reply.started": "2021-09-04T14:10:31.442245Z"
    }
   },
   "outputs": [
    {
     "data": {
      "text/html": [
       "<div>\n",
       "<style scoped>\n",
       "    .dataframe tbody tr th:only-of-type {\n",
       "        vertical-align: middle;\n",
       "    }\n",
       "\n",
       "    .dataframe tbody tr th {\n",
       "        vertical-align: top;\n",
       "    }\n",
       "\n",
       "    .dataframe thead th {\n",
       "        text-align: right;\n",
       "    }\n",
       "</style>\n",
       "<table border=\"1\" class=\"dataframe\">\n",
       "  <thead>\n",
       "    <tr style=\"text-align: right;\">\n",
       "      <th></th>\n",
       "      <th>Survived</th>\n",
       "      <th>Pclass</th>\n",
       "      <th>Sex</th>\n",
       "      <th>Age</th>\n",
       "      <th>SibSp</th>\n",
       "      <th>Parch</th>\n",
       "      <th>Fare</th>\n",
       "      <th>Embarked</th>\n",
       "    </tr>\n",
       "  </thead>\n",
       "  <tbody>\n",
       "    <tr>\n",
       "      <th>0</th>\n",
       "      <td>0</td>\n",
       "      <td>3</td>\n",
       "      <td>male</td>\n",
       "      <td>22.0</td>\n",
       "      <td>1</td>\n",
       "      <td>0</td>\n",
       "      <td>7.2500</td>\n",
       "      <td>S</td>\n",
       "    </tr>\n",
       "    <tr>\n",
       "      <th>1</th>\n",
       "      <td>1</td>\n",
       "      <td>1</td>\n",
       "      <td>female</td>\n",
       "      <td>38.0</td>\n",
       "      <td>1</td>\n",
       "      <td>0</td>\n",
       "      <td>71.2833</td>\n",
       "      <td>C</td>\n",
       "    </tr>\n",
       "    <tr>\n",
       "      <th>2</th>\n",
       "      <td>1</td>\n",
       "      <td>3</td>\n",
       "      <td>female</td>\n",
       "      <td>26.0</td>\n",
       "      <td>0</td>\n",
       "      <td>0</td>\n",
       "      <td>7.9250</td>\n",
       "      <td>S</td>\n",
       "    </tr>\n",
       "    <tr>\n",
       "      <th>3</th>\n",
       "      <td>1</td>\n",
       "      <td>1</td>\n",
       "      <td>female</td>\n",
       "      <td>35.0</td>\n",
       "      <td>1</td>\n",
       "      <td>0</td>\n",
       "      <td>53.1000</td>\n",
       "      <td>S</td>\n",
       "    </tr>\n",
       "    <tr>\n",
       "      <th>4</th>\n",
       "      <td>0</td>\n",
       "      <td>3</td>\n",
       "      <td>male</td>\n",
       "      <td>35.0</td>\n",
       "      <td>0</td>\n",
       "      <td>0</td>\n",
       "      <td>8.0500</td>\n",
       "      <td>S</td>\n",
       "    </tr>\n",
       "  </tbody>\n",
       "</table>\n",
       "</div>"
      ],
      "text/plain": [
       "   Survived  Pclass     Sex   Age  SibSp  Parch     Fare Embarked\n",
       "0         0       3    male  22.0      1      0   7.2500        S\n",
       "1         1       1  female  38.0      1      0  71.2833        C\n",
       "2         1       3  female  26.0      0      0   7.9250        S\n",
       "3         1       1  female  35.0      1      0  53.1000        S\n",
       "4         0       3    male  35.0      0      0   8.0500        S"
      ]
     },
     "execution_count": 7,
     "metadata": {},
     "output_type": "execute_result"
    }
   ],
   "source": [
    "#remove the column that we don't use\n",
    "train = train.drop(['Cabin', 'Ticket', 'Name', 'PassengerId'], axis = 1)\n",
    "train.head(5)"
   ]
  },
  {
   "cell_type": "code",
   "execution_count": 8,
   "metadata": {
    "execution": {
     "iopub.execute_input": "2021-09-04T14:10:31.460004Z",
     "iopub.status.busy": "2021-09-04T14:10:31.459508Z",
     "iopub.status.idle": "2021-09-04T14:10:31.472343Z",
     "shell.execute_reply": "2021-09-04T14:10:31.471598Z",
     "shell.execute_reply.started": "2021-09-04T14:10:31.459967Z"
    }
   },
   "outputs": [
    {
     "data": {
      "text/plain": [
       "Survived      0\n",
       "Pclass        0\n",
       "Sex           0\n",
       "Age         177\n",
       "SibSp         0\n",
       "Parch         0\n",
       "Fare          0\n",
       "Embarked      2\n",
       "dtype: int64"
      ]
     },
     "execution_count": 8,
     "metadata": {},
     "output_type": "execute_result"
    }
   ],
   "source": [
    "#check the number of null values\n",
    "train.isnull().sum()"
   ]
  },
  {
   "cell_type": "code",
   "execution_count": 9,
   "metadata": {
    "execution": {
     "iopub.execute_input": "2021-09-04T14:10:31.474332Z",
     "iopub.status.busy": "2021-09-04T14:10:31.473883Z",
     "iopub.status.idle": "2021-09-04T14:10:31.486944Z",
     "shell.execute_reply": "2021-09-04T14:10:31.486172Z",
     "shell.execute_reply.started": "2021-09-04T14:10:31.474297Z"
    }
   },
   "outputs": [
    {
     "name": "stdout",
     "output_type": "stream",
     "text": [
      "0    S\n",
      "dtype: object \n",
      "\n",
      "30\n"
     ]
    }
   ],
   "source": [
    "#Dealing with the missing values\n",
    "freq = train.Embarked.dropna().mode()\n",
    "print(freq, '\\n')\n",
    "train['Embarked'] = train['Embarked'].fillna(freq[0])#fill the NAN values with the most freq values\n",
    "\n",
    "\n",
    "mean = train['Age'].dropna().mean()\n",
    "train['Age'] = train['Age'].fillna(round(mean))\n",
    "print(round(mean))"
   ]
  },
  {
   "cell_type": "code",
   "execution_count": 10,
   "metadata": {
    "execution": {
     "iopub.execute_input": "2021-09-04T14:10:31.496120Z",
     "iopub.status.busy": "2021-09-04T14:10:31.495631Z",
     "iopub.status.idle": "2021-09-04T14:10:31.505968Z",
     "shell.execute_reply": "2021-09-04T14:10:31.505130Z",
     "shell.execute_reply.started": "2021-09-04T14:10:31.496084Z"
    }
   },
   "outputs": [],
   "source": [
    "\"\"\"Convert the categorial features into numeric features\"\"\"\n",
    "train['Sex'].replace('female', 0, inplace = True)\n",
    "train['Sex'].replace('male', 1, inplace = True)\n",
    "\n",
    "train['Embarked'].replace('S', 0, inplace = True)\n",
    "train['Embarked'].replace('C', 1, inplace = True)\n",
    "train['Embarked'].replace('Q', 2, inplace = True)"
   ]
  },
  {
   "cell_type": "code",
   "execution_count": 11,
   "metadata": {
    "execution": {
     "iopub.execute_input": "2021-09-04T14:10:31.526796Z",
     "iopub.status.busy": "2021-09-04T14:10:31.526235Z",
     "iopub.status.idle": "2021-09-04T14:10:31.563758Z",
     "shell.execute_reply": "2021-09-04T14:10:31.562788Z",
     "shell.execute_reply.started": "2021-09-04T14:10:31.526753Z"
    }
   },
   "outputs": [
    {
     "name": "stdout",
     "output_type": "stream",
     "text": [
      "Survived    0\n",
      "Pclass      0\n",
      "Sex         0\n",
      "Age         0\n",
      "SibSp       0\n",
      "Parch       0\n",
      "Fare        0\n",
      "Embarked    0\n",
      "dtype: int64 \n",
      " ***********   *************  *********** \n",
      " (891, 8) \n",
      " ***********   *************  *********** \n",
      "    Survived  Pclass  Sex   Age  SibSp  Parch     Fare  Embarked\n",
      "0         0       3    1  22.0      1      0   7.2500         0\n",
      "1         1       1    0  38.0      1      0  71.2833         1\n",
      "2         1       3    0  26.0      0      0   7.9250         0\n",
      "3         1       1    0  35.0      1      0  53.1000         0\n",
      "4         0       3    1  35.0      0      0   8.0500         0 \n",
      " ***********   *************  *********** \n",
      "           count       mean        std   min      25%      50%   75%       max\n",
      "Survived  891.0   0.383838   0.486592  0.00   0.0000   0.0000   1.0    1.0000\n",
      "Pclass    891.0   2.308642   0.836071  1.00   2.0000   3.0000   3.0    3.0000\n",
      "Sex       891.0   0.647587   0.477990  0.00   0.0000   1.0000   1.0    1.0000\n",
      "Age       891.0  29.758889  13.002570  0.42  22.0000  30.0000  35.0   80.0000\n",
      "SibSp     891.0   0.523008   1.102743  0.00   0.0000   0.0000   1.0    8.0000\n",
      "Parch     891.0   0.381594   0.806057  0.00   0.0000   0.0000   0.0    6.0000\n",
      "Fare      891.0  32.204208  49.693429  0.00   7.9104  14.4542  31.0  512.3292\n",
      "Embarked  891.0   0.361392   0.635673  0.00   0.0000   0.0000   1.0    2.0000\n"
     ]
    }
   ],
   "source": [
    "print(train.isnull().sum(), train.shape, train.head(), train.describe().T,\n",
    "      sep = ' \\n ***********   *************  *********** \\n ' )"
   ]
  },
  {
   "cell_type": "code",
   "execution_count": 12,
   "metadata": {
    "execution": {
     "iopub.execute_input": "2021-09-04T14:10:31.565586Z",
     "iopub.status.busy": "2021-09-04T14:10:31.565238Z",
     "iopub.status.idle": "2021-09-04T14:10:31.600594Z",
     "shell.execute_reply": "2021-09-04T14:10:31.599621Z",
     "shell.execute_reply.started": "2021-09-04T14:10:31.565556Z"
    }
   },
   "outputs": [
    {
     "name": "stdout",
     "output_type": "stream",
     "text": [
      "   Pclass  Survived\n",
      "0       1  0.629630\n",
      "1       2  0.472826\n",
      "2       3  0.242363 \n",
      " ******** ******* ********* \n",
      "    Sex  Survived\n",
      "0    0  0.742038\n",
      "1    1  0.188908 \n",
      " ******** ******* ********* \n",
      "    SibSp  Survived\n",
      "1      1  0.535885\n",
      "2      2  0.464286\n",
      "0      0  0.345395\n",
      "3      3  0.250000\n",
      "4      4  0.166667\n",
      "5      5  0.000000\n",
      "6      8  0.000000 \n",
      " ******** ******* ********* \n",
      "    Parch  Survived\n",
      "3      3  0.600000\n",
      "1      1  0.550847\n",
      "2      2  0.500000\n",
      "0      0  0.343658\n",
      "5      5  0.200000\n",
      "4      4  0.000000\n",
      "6      6  0.000000 \n",
      " ******** ******* ********* \n",
      "    Embarked  Survived\n",
      "1         1  0.553571\n",
      "2         2  0.389610\n",
      "0         0  0.339009 \n",
      " ******** ******* ********* \n",
      " "
     ]
    }
   ],
   "source": [
    "cols = ['Pclass','Sex','SibSp' ,'Parch','Embarked']\n",
    "for col in cols :\n",
    "    print(train[[col, 'Survived']].groupby([col],as_index=False).mean().sort_values(by=\n",
    "           'Survived', ascending = False), end=' \\n ******** ******* ********* \\n ')\n"
   ]
  },
  {
   "cell_type": "code",
   "execution_count": 13,
   "metadata": {
    "execution": {
     "iopub.execute_input": "2021-09-04T14:10:31.602511Z",
     "iopub.status.busy": "2021-09-04T14:10:31.602186Z",
     "iopub.status.idle": "2021-09-04T14:10:31.620250Z",
     "shell.execute_reply": "2021-09-04T14:10:31.619126Z",
     "shell.execute_reply.started": "2021-09-04T14:10:31.602461Z"
    }
   },
   "outputs": [
    {
     "data": {
      "text/html": [
       "<div>\n",
       "<style scoped>\n",
       "    .dataframe tbody tr th:only-of-type {\n",
       "        vertical-align: middle;\n",
       "    }\n",
       "\n",
       "    .dataframe tbody tr th {\n",
       "        vertical-align: top;\n",
       "    }\n",
       "\n",
       "    .dataframe thead th {\n",
       "        text-align: right;\n",
       "    }\n",
       "</style>\n",
       "<table border=\"1\" class=\"dataframe\">\n",
       "  <thead>\n",
       "    <tr style=\"text-align: right;\">\n",
       "      <th></th>\n",
       "      <th>PassengerId</th>\n",
       "      <th>Pclass</th>\n",
       "      <th>Name</th>\n",
       "      <th>Sex</th>\n",
       "      <th>Age</th>\n",
       "      <th>SibSp</th>\n",
       "      <th>Parch</th>\n",
       "      <th>Ticket</th>\n",
       "      <th>Fare</th>\n",
       "      <th>Cabin</th>\n",
       "      <th>Embarked</th>\n",
       "    </tr>\n",
       "  </thead>\n",
       "  <tbody>\n",
       "    <tr>\n",
       "      <th>236</th>\n",
       "      <td>1128</td>\n",
       "      <td>1</td>\n",
       "      <td>Warren, Mr. Frank Manley</td>\n",
       "      <td>male</td>\n",
       "      <td>64.0</td>\n",
       "      <td>1</td>\n",
       "      <td>0</td>\n",
       "      <td>110813</td>\n",
       "      <td>75.2500</td>\n",
       "      <td>D37</td>\n",
       "      <td>C</td>\n",
       "    </tr>\n",
       "    <tr>\n",
       "      <th>85</th>\n",
       "      <td>977</td>\n",
       "      <td>3</td>\n",
       "      <td>Khalil, Mr. Betros</td>\n",
       "      <td>male</td>\n",
       "      <td>NaN</td>\n",
       "      <td>1</td>\n",
       "      <td>0</td>\n",
       "      <td>2660</td>\n",
       "      <td>14.4542</td>\n",
       "      <td>NaN</td>\n",
       "      <td>C</td>\n",
       "    </tr>\n",
       "    <tr>\n",
       "      <th>374</th>\n",
       "      <td>1266</td>\n",
       "      <td>1</td>\n",
       "      <td>Dodge, Mrs. Washington (Ruth Vidaver)</td>\n",
       "      <td>female</td>\n",
       "      <td>54.0</td>\n",
       "      <td>1</td>\n",
       "      <td>1</td>\n",
       "      <td>33638</td>\n",
       "      <td>81.8583</td>\n",
       "      <td>A34</td>\n",
       "      <td>S</td>\n",
       "    </tr>\n",
       "    <tr>\n",
       "      <th>224</th>\n",
       "      <td>1116</td>\n",
       "      <td>1</td>\n",
       "      <td>Candee, Mrs. Edward (Helen Churchill Hungerford)</td>\n",
       "      <td>female</td>\n",
       "      <td>53.0</td>\n",
       "      <td>0</td>\n",
       "      <td>0</td>\n",
       "      <td>PC 17606</td>\n",
       "      <td>27.4458</td>\n",
       "      <td>NaN</td>\n",
       "      <td>C</td>\n",
       "    </tr>\n",
       "    <tr>\n",
       "      <th>204</th>\n",
       "      <td>1096</td>\n",
       "      <td>2</td>\n",
       "      <td>Andrew, Mr. Frank Thomas</td>\n",
       "      <td>male</td>\n",
       "      <td>25.0</td>\n",
       "      <td>0</td>\n",
       "      <td>0</td>\n",
       "      <td>C.A. 34050</td>\n",
       "      <td>10.5000</td>\n",
       "      <td>NaN</td>\n",
       "      <td>S</td>\n",
       "    </tr>\n",
       "  </tbody>\n",
       "</table>\n",
       "</div>"
      ],
      "text/plain": [
       "     PassengerId  Pclass                                              Name  \\\n",
       "236         1128       1                          Warren, Mr. Frank Manley   \n",
       "85           977       3                                Khalil, Mr. Betros   \n",
       "374         1266       1             Dodge, Mrs. Washington (Ruth Vidaver)   \n",
       "224         1116       1  Candee, Mrs. Edward (Helen Churchill Hungerford)   \n",
       "204         1096       2                          Andrew, Mr. Frank Thomas   \n",
       "\n",
       "        Sex   Age  SibSp  Parch      Ticket     Fare Cabin Embarked  \n",
       "236    male  64.0      1      0      110813  75.2500   D37        C  \n",
       "85     male   NaN      1      0        2660  14.4542   NaN        C  \n",
       "374  female  54.0      1      1       33638  81.8583   A34        S  \n",
       "224  female  53.0      0      0    PC 17606  27.4458   NaN        C  \n",
       "204    male  25.0      0      0  C.A. 34050  10.5000   NaN        S  "
      ]
     },
     "execution_count": 13,
     "metadata": {},
     "output_type": "execute_result"
    }
   ],
   "source": [
    "test.sample(5)"
   ]
  },
  {
   "cell_type": "code",
   "execution_count": 14,
   "metadata": {
    "execution": {
     "iopub.execute_input": "2021-09-04T14:10:31.640185Z",
     "iopub.status.busy": "2021-09-04T14:10:31.639829Z",
     "iopub.status.idle": "2021-09-04T14:10:31.657334Z",
     "shell.execute_reply": "2021-09-04T14:10:31.656364Z",
     "shell.execute_reply.started": "2021-09-04T14:10:31.640156Z"
    }
   },
   "outputs": [
    {
     "name": "stdout",
     "output_type": "stream",
     "text": [
      "<class 'pandas.core.frame.DataFrame'>\n",
      "RangeIndex: 418 entries, 0 to 417\n",
      "Data columns (total 11 columns):\n",
      " #   Column       Non-Null Count  Dtype  \n",
      "---  ------       --------------  -----  \n",
      " 0   PassengerId  418 non-null    int64  \n",
      " 1   Pclass       418 non-null    int64  \n",
      " 2   Name         418 non-null    object \n",
      " 3   Sex          418 non-null    object \n",
      " 4   Age          332 non-null    float64\n",
      " 5   SibSp        418 non-null    int64  \n",
      " 6   Parch        418 non-null    int64  \n",
      " 7   Ticket       418 non-null    object \n",
      " 8   Fare         417 non-null    float64\n",
      " 9   Cabin        91 non-null     object \n",
      " 10  Embarked     418 non-null    object \n",
      "dtypes: float64(2), int64(4), object(5)\n",
      "memory usage: 36.0+ KB\n",
      "(418, 11) \n",
      " ***********   *************  *********** \n",
      " None \n",
      " ***********   *************  *********** \n",
      " PassengerId      0\n",
      "Pclass           0\n",
      "Name             0\n",
      "Sex              0\n",
      "Age             86\n",
      "SibSp            0\n",
      "Parch            0\n",
      "Ticket           0\n",
      "Fare             1\n",
      "Cabin          327\n",
      "Embarked         0\n",
      "dtype: int64\n"
     ]
    }
   ],
   "source": [
    "#check the null values\n",
    "print(test.shape, test.info(), test.isnull().sum(),\n",
    "     sep = ' \\n ***********   *************  *********** \\n ')"
   ]
  },
  {
   "cell_type": "code",
   "execution_count": 15,
   "metadata": {
    "execution": {
     "iopub.execute_input": "2021-09-04T14:10:31.753274Z",
     "iopub.status.busy": "2021-09-04T14:10:31.752726Z",
     "iopub.status.idle": "2021-09-04T14:10:31.764299Z",
     "shell.execute_reply": "2021-09-04T14:10:31.763429Z",
     "shell.execute_reply.started": "2021-09-04T14:10:31.753234Z"
    }
   },
   "outputs": [
    {
     "name": "stdout",
     "output_type": "stream",
     "text": [
      "0    7.75\n",
      "dtype: float64 \n",
      "\n",
      "30\n"
     ]
    }
   ],
   "source": [
    "#Drop the column we don't want to use\n",
    "test = test.drop(['Cabin','Ticket','Name','PassengerId'], axis = 1)\n",
    "\n",
    "\n",
    "freq = test.Fare.dropna().mode()\n",
    "print(freq, '\\n')\n",
    "test['Fare'] = train['Fare'].fillna(freq[0])#fill the NAN values with the most freq values\n",
    "\n",
    "\n",
    "mean = train['Age'].dropna().mean()\n",
    "test['Age'] = test['Age'].fillna(round(mean))\n",
    "print(round(mean))"
   ]
  },
  {
   "cell_type": "code",
   "execution_count": 16,
   "metadata": {
    "execution": {
     "iopub.execute_input": "2021-09-04T14:10:31.794453Z",
     "iopub.status.busy": "2021-09-04T14:10:31.794109Z",
     "iopub.status.idle": "2021-09-04T14:10:31.803895Z",
     "shell.execute_reply": "2021-09-04T14:10:31.802844Z",
     "shell.execute_reply.started": "2021-09-04T14:10:31.794425Z"
    }
   },
   "outputs": [],
   "source": [
    "#Convert the categorial features into numeric features\n",
    "test['Sex'].replace('female', 0, inplace = True)\n",
    "test['Sex'].replace('male', 1, inplace = True)\n",
    "\n",
    "test['Embarked'].replace('S', 0, inplace = True)\n",
    "test['Embarked'].replace('C', 1, inplace = True)\n",
    "test['Embarked'].replace('Q', 2, inplace = True)"
   ]
  },
  {
   "cell_type": "code",
   "execution_count": 17,
   "metadata": {
    "execution": {
     "iopub.execute_input": "2021-09-04T14:10:31.820533Z",
     "iopub.status.busy": "2021-09-04T14:10:31.820166Z",
     "iopub.status.idle": "2021-09-04T14:10:31.835395Z",
     "shell.execute_reply": "2021-09-04T14:10:31.834418Z",
     "shell.execute_reply.started": "2021-09-04T14:10:31.820504Z"
    }
   },
   "outputs": [
    {
     "data": {
      "text/html": [
       "<div>\n",
       "<style scoped>\n",
       "    .dataframe tbody tr th:only-of-type {\n",
       "        vertical-align: middle;\n",
       "    }\n",
       "\n",
       "    .dataframe tbody tr th {\n",
       "        vertical-align: top;\n",
       "    }\n",
       "\n",
       "    .dataframe thead th {\n",
       "        text-align: right;\n",
       "    }\n",
       "</style>\n",
       "<table border=\"1\" class=\"dataframe\">\n",
       "  <thead>\n",
       "    <tr style=\"text-align: right;\">\n",
       "      <th></th>\n",
       "      <th>Pclass</th>\n",
       "      <th>Sex</th>\n",
       "      <th>Age</th>\n",
       "      <th>SibSp</th>\n",
       "      <th>Parch</th>\n",
       "      <th>Fare</th>\n",
       "      <th>Embarked</th>\n",
       "    </tr>\n",
       "  </thead>\n",
       "  <tbody>\n",
       "    <tr>\n",
       "      <th>201</th>\n",
       "      <td>3</td>\n",
       "      <td>1</td>\n",
       "      <td>0.33</td>\n",
       "      <td>0</td>\n",
       "      <td>2</td>\n",
       "      <td>69.550</td>\n",
       "      <td>0</td>\n",
       "    </tr>\n",
       "    <tr>\n",
       "      <th>79</th>\n",
       "      <td>3</td>\n",
       "      <td>0</td>\n",
       "      <td>24.00</td>\n",
       "      <td>0</td>\n",
       "      <td>0</td>\n",
       "      <td>12.475</td>\n",
       "      <td>2</td>\n",
       "    </tr>\n",
       "    <tr>\n",
       "      <th>173</th>\n",
       "      <td>3</td>\n",
       "      <td>1</td>\n",
       "      <td>30.00</td>\n",
       "      <td>0</td>\n",
       "      <td>0</td>\n",
       "      <td>7.925</td>\n",
       "      <td>1</td>\n",
       "    </tr>\n",
       "    <tr>\n",
       "      <th>356</th>\n",
       "      <td>1</td>\n",
       "      <td>0</td>\n",
       "      <td>59.00</td>\n",
       "      <td>2</td>\n",
       "      <td>0</td>\n",
       "      <td>55.000</td>\n",
       "      <td>0</td>\n",
       "    </tr>\n",
       "    <tr>\n",
       "      <th>45</th>\n",
       "      <td>3</td>\n",
       "      <td>1</td>\n",
       "      <td>25.00</td>\n",
       "      <td>0</td>\n",
       "      <td>0</td>\n",
       "      <td>8.050</td>\n",
       "      <td>0</td>\n",
       "    </tr>\n",
       "  </tbody>\n",
       "</table>\n",
       "</div>"
      ],
      "text/plain": [
       "     Pclass  Sex    Age  SibSp  Parch    Fare  Embarked\n",
       "201       3    1   0.33      0      2  69.550         0\n",
       "79        3    0  24.00      0      0  12.475         2\n",
       "173       3    1  30.00      0      0   7.925         1\n",
       "356       1    0  59.00      2      0  55.000         0\n",
       "45        3    1  25.00      0      0   8.050         0"
      ]
     },
     "execution_count": 17,
     "metadata": {},
     "output_type": "execute_result"
    }
   ],
   "source": [
    "test.sample(5)"
   ]
  },
  {
   "cell_type": "code",
   "execution_count": 18,
   "metadata": {
    "execution": {
     "iopub.execute_input": "2021-09-04T14:10:31.837584Z",
     "iopub.status.busy": "2021-09-04T14:10:31.836861Z",
     "iopub.status.idle": "2021-09-04T14:10:31.845652Z",
     "shell.execute_reply": "2021-09-04T14:10:31.844568Z",
     "shell.execute_reply.started": "2021-09-04T14:10:31.837552Z"
    }
   },
   "outputs": [],
   "source": [
    "X_test = test\n",
    "X_train = train.drop(\"Survived\", axis = 1)\n",
    "y_train = train[\"Survived\"]"
   ]
  },
  {
   "cell_type": "code",
   "execution_count": 19,
   "metadata": {
    "execution": {
     "iopub.execute_input": "2021-09-04T14:10:31.920570Z",
     "iopub.status.busy": "2021-09-04T14:10:31.920224Z",
     "iopub.status.idle": "2021-09-04T14:10:31.951539Z",
     "shell.execute_reply": "2021-09-04T14:10:31.950532Z",
     "shell.execute_reply.started": "2021-09-04T14:10:31.920542Z"
    }
   },
   "outputs": [
    {
     "data": {
      "text/plain": [
       "array([0, 1, 0, 1, 1, 0, 1, 0, 1, 1])"
      ]
     },
     "execution_count": 19,
     "metadata": {},
     "output_type": "execute_result"
    }
   ],
   "source": [
    "#Using KNN\n",
    "model1 = KNeighborsClassifier(n_neighbors=3)\n",
    "model1.fit(X_train, y_train)\n",
    "prediction = model1.predict(X_test)\n",
    "prediction[:10]"
   ]
  },
  {
   "cell_type": "code",
   "execution_count": 20,
   "metadata": {
    "execution": {
     "iopub.execute_input": "2021-09-04T14:10:31.953131Z",
     "iopub.status.busy": "2021-09-04T14:10:31.952848Z",
     "iopub.status.idle": "2021-09-04T14:10:31.969856Z",
     "shell.execute_reply": "2021-09-04T14:10:31.969027Z",
     "shell.execute_reply.started": "2021-09-04T14:10:31.953105Z"
    }
   },
   "outputs": [
    {
     "data": {
      "text/plain": [
       "array([0, 0, 0, 0, 1, 0, 1, 0, 1, 0])"
      ]
     },
     "execution_count": 20,
     "metadata": {},
     "output_type": "execute_result"
    }
   ],
   "source": [
    "#Using Logistic Regression\n",
    "model2 = LogisticRegression(solver = 'liblinear')\n",
    "model2.fit(X_train, y_train)\n",
    "prediction = model2.predict(X_test)\n",
    "prediction[:10]"
   ]
  },
  {
   "cell_type": "code",
   "execution_count": 21,
   "metadata": {
    "execution": {
     "iopub.execute_input": "2021-09-04T14:10:31.976591Z",
     "iopub.status.busy": "2021-09-04T14:10:31.976272Z",
     "iopub.status.idle": "2021-09-04T14:10:41.668310Z",
     "shell.execute_reply": "2021-09-04T14:10:41.667432Z",
     "shell.execute_reply.started": "2021-09-04T14:10:31.976564Z"
    }
   },
   "outputs": [
    {
     "data": {
      "text/plain": [
       "array([0, 1, 0, 0, 1, 0, 1, 0, 1, 0])"
      ]
     },
     "execution_count": 21,
     "metadata": {},
     "output_type": "execute_result"
    }
   ],
   "source": [
    "#Using Support Vector Machine(SVM)\n",
    "model3 = SVC(kernel = 'linear')\n",
    "model3.fit(X_train, y_train)\n",
    "prediction = model3.predict(X_test)\n",
    "prediction[:10]"
   ]
  },
  {
   "cell_type": "code",
   "execution_count": 22,
   "metadata": {
    "execution": {
     "iopub.execute_input": "2021-09-04T14:10:41.670069Z",
     "iopub.status.busy": "2021-09-04T14:10:41.669792Z",
     "iopub.status.idle": "2021-09-04T14:10:41.683271Z",
     "shell.execute_reply": "2021-09-04T14:10:41.682181Z",
     "shell.execute_reply.started": "2021-09-04T14:10:41.670043Z"
    }
   },
   "outputs": [
    {
     "data": {
      "text/plain": [
       "array([0, 1, 0, 0, 1, 0, 1, 0, 1, 0])"
      ]
     },
     "execution_count": 22,
     "metadata": {},
     "output_type": "execute_result"
    }
   ],
   "source": [
    "model4 = GaussianNB()\n",
    "model4.fit(X_train, y_train)\n",
    "prediction = model4.predict(X_test)\n",
    "prediction[:10]"
   ]
  },
  {
   "cell_type": "code",
   "execution_count": 23,
   "metadata": {
    "execution": {
     "iopub.execute_input": "2021-09-04T14:10:41.685524Z",
     "iopub.status.busy": "2021-09-04T14:10:41.685173Z",
     "iopub.status.idle": "2021-09-04T14:10:41.741398Z",
     "shell.execute_reply": "2021-09-04T14:10:41.740502Z",
     "shell.execute_reply.started": "2021-09-04T14:10:41.685494Z"
    }
   },
   "outputs": [],
   "source": [
    "score1 = round(model1.score(X_train, y_train) * 100, 2)\n",
    "score2 = round(model2.score(X_train, y_train) * 100, 2)\n",
    "score3 = round(model3.score(X_train, y_train) * 100, 2)\n",
    "score4 = round(model4.score(X_train, y_train) * 100, 2)"
   ]
  },
  {
   "cell_type": "code",
   "execution_count": 24,
   "metadata": {
    "execution": {
     "iopub.execute_input": "2021-09-04T14:10:41.743112Z",
     "iopub.status.busy": "2021-09-04T14:10:41.742794Z",
     "iopub.status.idle": "2021-09-04T14:10:41.748872Z",
     "shell.execute_reply": "2021-09-04T14:10:41.747520Z",
     "shell.execute_reply.started": "2021-09-04T14:10:41.743084Z"
    }
   },
   "outputs": [],
   "source": [
    "dict = {'Model': ['K Nearest Neighbor', 'Logistic Regression', 'Support Vector Machine', 'Naive Bayes'],\n",
    "        'Score' : [score1, score2, score3, score4]}\n",
    "model_score = pd.DataFrame(dict)"
   ]
  },
  {
   "cell_type": "code",
   "execution_count": 25,
   "metadata": {
    "execution": {
     "iopub.execute_input": "2021-09-04T14:10:41.750847Z",
     "iopub.status.busy": "2021-09-04T14:10:41.750441Z",
     "iopub.status.idle": "2021-09-04T14:10:41.766332Z",
     "shell.execute_reply": "2021-09-04T14:10:41.765371Z",
     "shell.execute_reply.started": "2021-09-04T14:10:41.750806Z"
    }
   },
   "outputs": [
    {
     "data": {
      "text/html": [
       "<div>\n",
       "<style scoped>\n",
       "    .dataframe tbody tr th:only-of-type {\n",
       "        vertical-align: middle;\n",
       "    }\n",
       "\n",
       "    .dataframe tbody tr th {\n",
       "        vertical-align: top;\n",
       "    }\n",
       "\n",
       "    .dataframe thead th {\n",
       "        text-align: right;\n",
       "    }\n",
       "</style>\n",
       "<table border=\"1\" class=\"dataframe\">\n",
       "  <thead>\n",
       "    <tr style=\"text-align: right;\">\n",
       "      <th></th>\n",
       "      <th>Model</th>\n",
       "      <th>Score</th>\n",
       "    </tr>\n",
       "  </thead>\n",
       "  <tbody>\n",
       "    <tr>\n",
       "      <th>0</th>\n",
       "      <td>K Nearest Neighbor</td>\n",
       "      <td>83.05</td>\n",
       "    </tr>\n",
       "    <tr>\n",
       "      <th>1</th>\n",
       "      <td>Logistic Regression</td>\n",
       "      <td>80.36</td>\n",
       "    </tr>\n",
       "    <tr>\n",
       "      <th>2</th>\n",
       "      <td>Support Vector Machine</td>\n",
       "      <td>78.68</td>\n",
       "    </tr>\n",
       "    <tr>\n",
       "      <th>3</th>\n",
       "      <td>Naive Bayes</td>\n",
       "      <td>79.24</td>\n",
       "    </tr>\n",
       "  </tbody>\n",
       "</table>\n",
       "</div>"
      ],
      "text/plain": [
       "                    Model  Score\n",
       "0      K Nearest Neighbor  83.05\n",
       "1     Logistic Regression  80.36\n",
       "2  Support Vector Machine  78.68\n",
       "3             Naive Bayes  79.24"
      ]
     },
     "execution_count": 25,
     "metadata": {},
     "output_type": "execute_result"
    }
   ],
   "source": [
    "model_score"
   ]
  },
  {
   "cell_type": "code",
   "execution_count": 26,
   "metadata": {
    "execution": {
     "iopub.execute_input": "2021-09-04T14:10:41.768053Z",
     "iopub.status.busy": "2021-09-04T14:10:41.767682Z",
     "iopub.status.idle": "2021-09-04T14:10:41.779042Z",
     "shell.execute_reply": "2021-09-04T14:10:41.777997Z",
     "shell.execute_reply.started": "2021-09-04T14:10:41.767963Z"
    }
   },
   "outputs": [],
   "source": [
    "#To submit to kaggle\n",
    "submission = pd.DataFrame({ 'Survived': prediction})\n",
    "submission .to_csv('my_submission.csv', index=False)"
   ]
  }
 ],
 "metadata": {
  "kernelspec": {
   "display_name": "Python 3",
   "language": "python",
   "name": "python3"
  },
  "language_info": {
   "codemirror_mode": {
    "name": "ipython",
    "version": 3
   },
   "file_extension": ".py",
   "mimetype": "text/x-python",
   "name": "python",
   "nbconvert_exporter": "python",
   "pygments_lexer": "ipython3",
   "version": "3.9.6"
  }
 },
 "nbformat": 4,
 "nbformat_minor": 4
}
